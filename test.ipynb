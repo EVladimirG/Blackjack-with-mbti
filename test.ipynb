{
 "cells": [
  {
   "cell_type": "code",
   "execution_count": 892,
   "metadata": {},
   "outputs": [],
   "source": [
    "import random as rnd\n",
    "import numpy as np\n",
    "\n",
    "def GenerarMbti():\n",
    "        Letras = [\n",
    "            rnd.choice(['E', 'I']),\n",
    "            rnd.choice(['S', 'N']),\n",
    "            rnd.choice(['T', 'F']),\n",
    "            rnd.choice(['J', 'P'])\n",
    "            ]\n",
    "        Mbti = ''.join(Letras)\n",
    "        return Mbti\n",
    "    \n",
    "def MbtiAPotenciador(Mbti):\n",
    "    Potenciadores = {\n",
    "        \"E\": {\n",
    "            \"Pot\": rnd.uniform(6.0, 8.0)  \n",
    "        },\n",
    "        \"I\": {\n",
    "            \"Pot\": rnd.uniform(-9.0, -7.0)  \n",
    "        },\n",
    "        \"S\": {\n",
    "            \"Pot\": rnd.uniform(-4.0, -2.0)  \n",
    "        },\n",
    "        \"N\": {\n",
    "            \"Pot\": rnd.uniform(7.0, 9.0)   \n",
    "        },\n",
    "        \"T\": {\n",
    "            \"Pot\": rnd.uniform(-3.0, -1.0)  \n",
    "        },\n",
    "        \"F\": {\n",
    "            \"Pot\": rnd.uniform(4.0, 6.0)   \n",
    "        },\n",
    "        \"J\": {\n",
    "            \"Pot\": rnd.uniform(-8.0, -6.0)  \n",
    "        },\n",
    "        \"P\": {\n",
    "            \"Pot\": rnd.uniform(3.0, 4.0)  \n",
    "        }\n",
    "    }\n",
    "    Potenciador = 0 \n",
    "    for Letra in Mbti:\n",
    "        Potenciador += Potenciadores[Letra]['Pot'] \n",
    "    return Potenciador  \n",
    "\n",
    "    \n",
    "def f(x, Potenciador):\n",
    "    threshold = rnd.uniform(0.3,0.4)-(Potenciador/100)\n",
    "    Nodo = rnd.uniform(12,13)+(Potenciador/10)\n",
    "    return 100*((1)/(1+np.exp(threshold*(x-Nodo))))\n"
   ]
  },
  {
   "cell_type": "code",
   "execution_count": 1008,
   "metadata": {},
   "outputs": [
    {
     "name": "stdout",
     "output_type": "stream",
     "text": [
      "Potenciador: 0.92, Probabilidad de elegir: 27.15%\n"
     ]
    }
   ],
   "source": [
    "Mbti = 'INTP'\n",
    "Cartas = 15\n",
    "Poten = MbtiAPotenciador(Mbti)\n",
    "print(f'Potenciador: {Poten:.2f}, Probabilidad de elegir: {f(Cartas, Poten):.2f}%')"
   ]
  }
 ],
 "metadata": {
  "kernelspec": {
   "display_name": "base",
   "language": "python",
   "name": "python3"
  },
  "language_info": {
   "codemirror_mode": {
    "name": "ipython",
    "version": 3
   },
   "file_extension": ".py",
   "mimetype": "text/x-python",
   "name": "python",
   "nbconvert_exporter": "python",
   "pygments_lexer": "ipython3",
   "version": "3.12.2"
  }
 },
 "nbformat": 4,
 "nbformat_minor": 2
}
